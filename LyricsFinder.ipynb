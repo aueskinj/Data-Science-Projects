{
  "cells": [
    {
      "cell_type": "markdown",
      "metadata": {
        "id": "view-in-github",
        "colab_type": "text"
      },
      "source": [
        "<a href=\"https://colab.research.google.com/github/aueskinj/Data-Science-Projects/blob/main/LyricsFinder.ipynb\" target=\"_parent\"><img src=\"https://colab.research.google.com/assets/colab-badge.svg\" alt=\"Open In Colab\"/></a>"
      ]
    },
    {
      "cell_type": "code",
      "execution_count": null,
      "metadata": {
        "id": "tk-1d15K7oMi"
      },
      "outputs": [],
      "source": [
        "import os\n",
        "import sys\n",
        "from pathlib import Path\n",
        "\n",
        "GENIUS_API_TOKEN = os.environ.get(\"GENIUS_API_TOKEN\")"
      ]
    },
    {
      "cell_type": "code",
      "execution_count": null,
      "metadata": {
        "id": "818e0MbP8S9Q"
      },
      "outputs": [],
      "source": [
        "# Make HTTP requests\n",
        "import requests\n",
        "# Scrape data from an HTML document\n",
        "from bs4 import BeautifulSoup\n",
        "# I/O\n",
        "import os\n",
        "# Search and manipulate strings\n",
        "import re"
      ]
    },
    {
      "cell_type": "markdown",
      "metadata": {
        "id": "k5m4kSxz8W7f"
      },
      "source": [
        "1. Get a list of Genius.com URL’s for a specified number of songs for an artist\n"
      ]
    },
    {
      "cell_type": "code",
      "execution_count": null,
      "metadata": {
        "colab": {
          "base_uri": "https://localhost:8080/",
          "height": 321
        },
        "id": "p8mvi6l-8YQw",
        "outputId": "953ac094-0b51-4941-e59f-81deeb981542"
      },
      "outputs": [
        {
          "output_type": "error",
          "ename": "TypeError",
          "evalue": "can only concatenate str (not \"NoneType\") to str",
          "traceback": [
            "\u001b[0;31m---------------------------------------------------------------------------\u001b[0m",
            "\u001b[0;31mTypeError\u001b[0m                                 Traceback (most recent call last)",
            "\u001b[0;32m<ipython-input-3-c7ddf08d0991>\u001b[0m in \u001b[0;36m<cell line: 38>\u001b[0;34m()\u001b[0m\n\u001b[1;32m     36\u001b[0m \u001b[0;34m\u001b[0m\u001b[0m\n\u001b[1;32m     37\u001b[0m \u001b[0;31m# DEMO\u001b[0m\u001b[0;34m\u001b[0m\u001b[0;34m\u001b[0m\u001b[0m\n\u001b[0;32m---> 38\u001b[0;31m \u001b[0mrequest_song_url\u001b[0m\u001b[0;34m(\u001b[0m\u001b[0;34m'Queen'\u001b[0m\u001b[0;34m,\u001b[0m \u001b[0;36m2\u001b[0m\u001b[0;34m)\u001b[0m\u001b[0;34m\u001b[0m\u001b[0;34m\u001b[0m\u001b[0m\n\u001b[0m",
            "\u001b[0;32m<ipython-input-3-c7ddf08d0991>\u001b[0m in \u001b[0;36mrequest_song_url\u001b[0;34m(artist_name, song_cap)\u001b[0m\n\u001b[1;32m     13\u001b[0m \u001b[0;34m\u001b[0m\u001b[0m\n\u001b[1;32m     14\u001b[0m     \u001b[0;32mwhile\u001b[0m \u001b[0;32mTrue\u001b[0m\u001b[0;34m:\u001b[0m\u001b[0;34m\u001b[0m\u001b[0;34m\u001b[0m\u001b[0m\n\u001b[0;32m---> 15\u001b[0;31m         \u001b[0mresponse\u001b[0m \u001b[0;34m=\u001b[0m \u001b[0mrequest_artist_info\u001b[0m\u001b[0;34m(\u001b[0m\u001b[0martist_name\u001b[0m\u001b[0;34m,\u001b[0m \u001b[0mpage\u001b[0m\u001b[0;34m)\u001b[0m\u001b[0;34m\u001b[0m\u001b[0;34m\u001b[0m\u001b[0m\n\u001b[0m\u001b[1;32m     16\u001b[0m         \u001b[0mjson\u001b[0m \u001b[0;34m=\u001b[0m \u001b[0mresponse\u001b[0m\u001b[0;34m.\u001b[0m\u001b[0mjson\u001b[0m\u001b[0;34m(\u001b[0m\u001b[0;34m)\u001b[0m\u001b[0;34m\u001b[0m\u001b[0;34m\u001b[0m\u001b[0m\n\u001b[1;32m     17\u001b[0m         \u001b[0;31m# Collect up to song_cap song objects from artist\u001b[0m\u001b[0;34m\u001b[0m\u001b[0;34m\u001b[0m\u001b[0m\n",
            "\u001b[0;32m<ipython-input-3-c7ddf08d0991>\u001b[0m in \u001b[0;36mrequest_artist_info\u001b[0;34m(artist_name, page)\u001b[0m\n\u001b[1;32m      2\u001b[0m \u001b[0;32mdef\u001b[0m \u001b[0mrequest_artist_info\u001b[0m\u001b[0;34m(\u001b[0m\u001b[0martist_name\u001b[0m\u001b[0;34m,\u001b[0m \u001b[0mpage\u001b[0m\u001b[0;34m)\u001b[0m\u001b[0;34m:\u001b[0m\u001b[0;34m\u001b[0m\u001b[0;34m\u001b[0m\u001b[0m\n\u001b[1;32m      3\u001b[0m     \u001b[0mbase_url\u001b[0m \u001b[0;34m=\u001b[0m \u001b[0;34m'https://api.genius.com'\u001b[0m\u001b[0;34m\u001b[0m\u001b[0;34m\u001b[0m\u001b[0m\n\u001b[0;32m----> 4\u001b[0;31m     \u001b[0mheaders\u001b[0m \u001b[0;34m=\u001b[0m \u001b[0;34m{\u001b[0m\u001b[0;34m'Authorization'\u001b[0m\u001b[0;34m:\u001b[0m \u001b[0;34m'Bearer '\u001b[0m \u001b[0;34m+\u001b[0m \u001b[0mGENIUS_API_TOKEN\u001b[0m\u001b[0;34m}\u001b[0m\u001b[0;34m\u001b[0m\u001b[0;34m\u001b[0m\u001b[0m\n\u001b[0m\u001b[1;32m      5\u001b[0m     \u001b[0msearch_url\u001b[0m \u001b[0;34m=\u001b[0m \u001b[0mbase_url\u001b[0m \u001b[0;34m+\u001b[0m \u001b[0;34m'/search?per_page=10&page='\u001b[0m \u001b[0;34m+\u001b[0m \u001b[0mstr\u001b[0m\u001b[0;34m(\u001b[0m\u001b[0mpage\u001b[0m\u001b[0;34m)\u001b[0m\u001b[0;34m\u001b[0m\u001b[0;34m\u001b[0m\u001b[0m\n\u001b[1;32m      6\u001b[0m     \u001b[0mdata\u001b[0m \u001b[0;34m=\u001b[0m \u001b[0;34m{\u001b[0m\u001b[0;34m'q'\u001b[0m\u001b[0;34m:\u001b[0m \u001b[0martist_name\u001b[0m\u001b[0;34m}\u001b[0m\u001b[0;34m\u001b[0m\u001b[0;34m\u001b[0m\u001b[0m\n",
            "\u001b[0;31mTypeError\u001b[0m: can only concatenate str (not \"NoneType\") to str"
          ]
        }
      ],
      "source": [
        "# Get artist object from Genius API\n",
        "def request_artist_info(artist_name, page):\n",
        "    base_url = 'https://api.genius.com'\n",
        "    headers = {'Authorization': 'Bearer ' + GENIUS_API_TOKEN}\n",
        "    search_url = base_url + '/search?per_page=10&page=' + str(page)\n",
        "    data = {'q': artist_name}\n",
        "    response = requests.get(search_url, data=data, headers=headers)\n",
        "    return response\n",
        "# Get Genius.com song url's from artist object\n",
        "def request_song_url(artist_name, song_cap):\n",
        "    page = 1\n",
        "    songs = []\n",
        "\n",
        "    while True:\n",
        "        response = request_artist_info(artist_name, page)\n",
        "        json = response.json()\n",
        "        # Collect up to song_cap song objects from artist\n",
        "        song_info = []\n",
        "        for hit in json['response']['hits']:\n",
        "            if artist_name.lower() in hit['result']['primary_artist']['name'].lower():\n",
        "                song_info.append(hit)\n",
        "\n",
        "        # Collect song URL's from song objects\n",
        "        for song in song_info:\n",
        "            if (len(songs) < song_cap):\n",
        "                url = song['result']['url']\n",
        "                songs.append(url)\n",
        "\n",
        "        if (len(songs) == song_cap):\n",
        "            break\n",
        "        else:\n",
        "            page += 1\n",
        "\n",
        "    print('Found {} songs by {}'.format(len(songs), artist_name))\n",
        "    return songs\n",
        "\n",
        "# DEMO\n",
        "request_song_url('Queen', 2)"
      ]
    },
    {
      "cell_type": "markdown",
      "metadata": {
        "id": "OPihQ3DL-37V"
      },
      "source": [
        "2. Fetch lyrics from the URLs\n",
        "* [Fix for the html parsing](https://stackoverflow.com/questions/68027296/scraping-song-lyrics-with-beautifulsoup)"
      ]
    },
    {
      "cell_type": "code",
      "execution_count": null,
      "metadata": {
        "id": "fua8cz-3-xHi",
        "outputId": "9b488b06-17e2-4e37-c674-948773b92b12"
      },
      "outputs": [
        {
          "name": "stdout",
          "output_type": "stream",
          "text": [
            "Ooh-ooh-ooh-ooh, ooh-ooh-oohOoh-ooh-ooh-ooh, ooh-ooh-oohI been out on that open roadBut you can be my full-time daddy, white and goldSinging blues has been gettin' oldBut you can be my full-time baby, hot or coldDon't break me down I been traveling too long I been tryin' too hard With one pretty song I hear the birds on the summer breeze, I drive fastI am alone at midnightBeen trying hard not to get into trouble, but II've got a war in my mindSo, I just ride, just rideI just ride, I just ride\n"
          ]
        }
      ],
      "source": [
        "# Now next task is to fetch lyrics from the url's we got from the above function\n",
        "# We will use the BeautifulSoup library to parse the HTML data we scrapped from the website\n",
        "# We will use the requests library to make HTTP requests to the website\n",
        "\n",
        "# Scrape lyrics from a Genius.com song URL\n",
        "page = requests.get('https://genius.com/Lana-del-rey-ride-lyrics')\n",
        "html = BeautifulSoup(page.text, 'html.parser')\n",
        "\n",
        "# prettify the parsed html\n",
        "# print(html.prettify())\n",
        "\n",
        "# Scrape the song lyrics from the HTML\n",
        "lyrics = html.select(\"div[class*=Lyrics__Container]\")\n",
        "lyrics = re.sub('<[^>]*>', '', str(lyrics[0])) # Remove html tags\n",
        "lyrics = re.sub(' +', ' ', lyrics) # Remove duplicate newlines\n",
        "lyrics = lyrics.strip() # Remove whitespace at the beginning and end\n",
        "\n",
        "# Remove identifiers like chorus, verse, etc\n",
        "lyrics = re.sub(r'[\\(\\[].*?[\\)\\]]', '', lyrics)\n",
        "\n",
        "print(lyrics)\n"
      ]
    },
    {
      "cell_type": "code",
      "execution_count": null,
      "metadata": {
        "id": "LciPZc6fDiN9",
        "outputId": "7f7e6b6c-a5af-4f69-c467-c0df7224ce92"
      },
      "outputs": [
        {
          "data": {
            "text/plain": [
              "\"Ooh-ooh-ooh-ooh, ooh-ooh-oohOoh-ooh-ooh-ooh, ooh-ooh-oohI been out on that open roadBut you can be my full-time daddy, white and goldSinging blues has been gettin' oldBut you can be my full-time baby, hot or coldDon't break me down I been traveling too long I been tryin' too hard With one pretty song I hear the birds on the summer breeze, I drive fastI am alone at midnightBeen trying hard not to get into trouble, but II've got a war in my mindSo, I just ride, just rideI just ride, I just ride\\r\\nDying young and playing hardThat's the way my father made his life and artDrink all day and we talk 'til darkThat's the way the road dogs do it, light 'til darkDon't leave me now Don't say goodbye Don't turn around Leave me high and dry I hear the birds on the summer breeze, I drive fastI am alone at midnightBeen trying hard not to get into trouble, but II've got a war in my mindI just ride, just rideI just ride, I just rideI'm tired of feeling like I'm fucking crazyI'm tired of driving 'til I see stars in my eyesIt's all I've got to keep myself sane, babySo I just ride, I just ride\\r\\nI hear the birds on the summer breeze, I drive fastI am alone at midnightBeen trying hard not to get into trouble, but II've got a war in my mindI just ride, just rideI just ride, I just ride\""
            ]
          },
          "execution_count": 35,
          "metadata": {},
          "output_type": "execute_result"
        }
      ],
      "source": [
        "def scrape_song_lyrics(url):\n",
        "    page = requests.get(url)\n",
        "    html = BeautifulSoup(page.text, 'html.parser')\n",
        "    lyrics = html.select(\"div[class*=Lyrics__Container]\")\n",
        "    # Extract text from the Tag objects\n",
        "    lyrics = [tag.get_text() for tag in lyrics]\n",
        "    # Convert list of lyrics to a single string\n",
        "    lyrics = '\\n'.join(lyrics)\n",
        "    # Remove identifiers like chorus, verse, etc\n",
        "    lyrics = re.sub(r'[\\(\\[].*?[\\)\\]]', '', lyrics)\n",
        "    # Remove empty lines\n",
        "    lyrics = os.linesep.join([s for s in lyrics.splitlines() if s])\n",
        "    return lyrics\n",
        "\n",
        "# DEMO\n",
        "scrape_song_lyrics('https://genius.com/Lana-del-rey-ride-lyrics')"
      ]
    },
    {
      "cell_type": "markdown",
      "metadata": {
        "id": "kEivye-tDiN9"
      },
      "source": [
        "3. Loop through all URL’s and write lyrics to one file"
      ]
    },
    {
      "cell_type": "code",
      "execution_count": null,
      "metadata": {
        "id": "OuCxBalaDiN-",
        "outputId": "1bf86c24-f96f-40a2-a492-7d3ac5589374"
      },
      "outputs": [
        {
          "name": "stdout",
          "output_type": "stream",
          "text": [
            "Found 2 songs by Lana Del Rey\n",
            "Wrote 4 lines to file from 2 songs\n"
          ]
        }
      ],
      "source": [
        "def write_lyrics_to_file(artist_name, song_count):\n",
        "    os.makedirs('lyrics', exist_ok=True)  # Create 'lyrics' directory if it doesn't exist\n",
        "    f = open('lyrics/' + artist_name.lower() + '.txt', 'wb')\n",
        "    urls = request_song_url(artist_name, song_count)\n",
        "    for url in urls:\n",
        "        lyrics = scrape_song_lyrics(url)\n",
        "        f.write(lyrics.encode(\"utf8\"))\n",
        "    f.close()\n",
        "    num_lines = sum(1 for line in open('lyrics/' + artist_name.lower() + '.txt', 'rb'))\n",
        "    print('Wrote {} lines to file from {} songs'.format(num_lines, song_count))\n",
        "\n",
        "# DEMO\n",
        "write_lyrics_to_file('Lana Del Rey', 2)"
      ]
    },
    {
      "cell_type": "markdown",
      "metadata": {
        "id": "QLm6VBgiDiN-"
      },
      "source": [
        "### Next steps\n",
        "- [ ] Add a function to get the artist name from the URL\n",
        "- [ ] Add a function to get the song name from the URL\n",
        "- [ ] Add a function to get the song lyrics from the URL\n",
        "- [ ] Add a function to get the song release date from the URL\n",
        "- [ ] Add a function to get the song album name from the URL\n",
        "- [ ] Add a function to get the song writer from the URL\n",
        "- [ ] Add a function to get the song producer from the URL\n",
        "- [ ] Add a function to get the song featured artists from the URL\n",
        "- [ ] Add a function to get the song samples from the URL\n",
        "- [ ] Add a function to get the song interpolates from the URL\n",
        "- [ ] Add a function to get the song description from the URL\n",
        "- [ ] Add a function to get the song album art from the URL\n",
        "\n",
        "# References\n",
        "- [Genius API](https://docs.genius.com/)\n",
        "- [Genius API Python Wrapper](www.github.com/johnwmillr/LyricsGenius)\n",
        "- [How to Scrape Song Lyrics: A Gentle Tutorial](https://medium.com/analytics-vidhyahow-to-scrape-song-lyrics-a-gentle-python-tutorial-5b1d4ab35)"
      ]
    },
    {
      "cell_type": "markdown",
      "metadata": {
        "id": "c75vQXaZDiN_"
      },
      "source": [
        "### Future directions\n",
        "- Rap song writing recurrent neural network trained on Kanye West’s entire discography\n",
        "    Same thing but Taylor Swift\n",
        "    Same thing but Young Thug\n",
        "\n",
        "- Lyric generation trained on data from two or more artists (Kanye + TSwift, Young Thug + Lana Del Rey, Travis Scott + Beach Boys…go wild my children)\n",
        "\n",
        "- Lyric generation + Audio generation = AI generated song?"
      ]
    }
  ],
  "metadata": {
    "colab": {
      "machine_shape": "hm",
      "provenance": [],
      "include_colab_link": true
    },
    "kernelspec": {
      "display_name": "Python 3",
      "name": "python3"
    },
    "language_info": {
      "codemirror_mode": {
        "name": "ipython",
        "version": 3
      },
      "file_extension": ".py",
      "mimetype": "text/x-python",
      "name": "python",
      "nbconvert_exporter": "python",
      "pygments_lexer": "ipython3",
      "version": "3.10.11"
    }
  },
  "nbformat": 4,
  "nbformat_minor": 0
}