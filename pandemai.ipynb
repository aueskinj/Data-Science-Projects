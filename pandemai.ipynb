{
  "nbformat": 4,
  "nbformat_minor": 0,
  "metadata": {
    "colab": {
      "provenance": [],
      "authorship_tag": "ABX9TyOnlhYbwKE7g0axxqZRpGey",
      "include_colab_link": true
    },
    "kernelspec": {
      "name": "python3",
      "display_name": "Python 3"
    },
    "language_info": {
      "name": "python"
    }
  },
  "cells": [
    {
      "cell_type": "markdown",
      "metadata": {
        "id": "view-in-github",
        "colab_type": "text"
      },
      "source": [
        "<a href=\"https://colab.research.google.com/github/aueskinj/Data-Science-Projects/blob/main/pandemai.ipynb\" target=\"_parent\"><img src=\"https://colab.research.google.com/assets/colab-badge.svg\" alt=\"Open In Colab\"/></a>"
      ]
    },
    {
      "cell_type": "code",
      "execution_count": null,
      "metadata": {
        "id": "ZqL9mIBeH91i"
      },
      "outputs": [],
      "source": [
        "import pandas as pd\n",
        "import ast\n",
        "import matplotlib.pyplot as plt\n",
        "import seaborn as sns"
      ]
    },
    {
      "cell_type": "code",
      "source": [
        "# Specify the file path to your TSV file\n",
        "df = pd.read_csv('/content/kenya_tbcov.tsv', delimiter='\\t')"
      ],
      "metadata": {
        "id": "A7PUfw1LIDht"
      },
      "execution_count": null,
      "outputs": []
    },
    {
      "cell_type": "code",
      "source": [
        "# Display the first few rows of the DataFrame to understand the structure of the data\n",
        "print(\"Preview of the DataFrame:\")\n",
        "print(df.head())"
      ],
      "metadata": {
        "colab": {
          "base_uri": "https://localhost:8080/"
        },
        "id": "Zkq5vDukJE4U",
        "outputId": "4899fa1b-d018-4f74-d74b-6d19969f5d5c"
      },
      "execution_count": null,
      "outputs": [
        {
          "output_type": "stream",
          "name": "stdout",
          "text": [
            "Preview of the DataFrame:\n",
            "              tweet_id            date_time lang              user_id  \\\n",
            "0  1223395627243114496  2020-02-01T00:00:21   en             70394965   \n",
            "1  1223395667751702530  2020-02-01T00:00:31   en  1112662144527618048   \n",
            "2  1223396489910681603  2020-02-01T00:03:47   en            245493868   \n",
            "3  1223396854127382530  2020-02-01T00:05:14   en           1706777509   \n",
            "4  1223396915578011648  2020-02-01T00:05:28   en   874215910478884864   \n",
            "\n",
            "   retweeted_id  quoted_id  in_reply_to_id  sentiment_conf  sentiment_label  \\\n",
            "0           NaN        NaN             NaN           0.845               -1   \n",
            "1           NaN        NaN             NaN           0.728                0   \n",
            "2  1.223396e+18        NaN             NaN           0.795               -1   \n",
            "3  1.223190e+18        NaN             NaN           0.592               -1   \n",
            "4  1.223388e+18        NaN             NaN           0.804               -1   \n",
            "\n",
            "  user_type  ... user_profile_description_toponyms  \\\n",
            "0       ORG  ...                         ['Kenya']   \n",
            "1       ORG  ...                               NaN   \n",
            "2       UNK  ...                               NaN   \n",
            "3       PER  ...                               NaN   \n",
            "4       PER  ...                               NaN   \n",
            "\n",
            "  user_profile_description_country_code user_profile_description_state  \\\n",
            "0                                ['KE']                        ['UNK']   \n",
            "1                                   NaN                            NaN   \n",
            "2                                   NaN                            NaN   \n",
            "3                                   NaN                            NaN   \n",
            "4                                   NaN                            NaN   \n",
            "\n",
            "  user_profile_description_county user_profile_description_city  \\\n",
            "0                         ['UNK']                       ['UNK']   \n",
            "1                             NaN                           NaN   \n",
            "2                             NaN                           NaN   \n",
            "3                             NaN                           NaN   \n",
            "4                             NaN                           NaN   \n",
            "\n",
            "   tweet_text_toponyms tweet_text_country_code tweet_text_state  \\\n",
            "0            ['China']                  ['CN']          ['UNK']   \n",
            "1            ['Kenya']                  ['KE']          ['UNK']   \n",
            "2                  NaN                     NaN              NaN   \n",
            "3                  NaN                     NaN              NaN   \n",
            "4            ['China']                  ['CN']          ['UNK']   \n",
            "\n",
            "  tweet_text_county tweet_text_city  \n",
            "0           ['UNK']         ['UNK']  \n",
            "1           ['UNK']         ['UNK']  \n",
            "2               NaN             NaN  \n",
            "3               NaN             NaN  \n",
            "4           ['UNK']         ['UNK']  \n",
            "\n",
            "[5 rows x 37 columns]\n"
          ]
        }
      ]
    },
    {
      "cell_type": "code",
      "source": [
        "# Display basic statistics and information about the DataFrame\n",
        "print(\"\\nDataFrame Information:\")\n",
        "print(df.info())"
      ],
      "metadata": {
        "colab": {
          "base_uri": "https://localhost:8080/"
        },
        "id": "WVEr8L53JNVJ",
        "outputId": "5def7410-f541-4547-b4c8-531167012a99"
      },
      "execution_count": null,
      "outputs": [
        {
          "output_type": "stream",
          "name": "stdout",
          "text": [
            "\n",
            "DataFrame Information:\n",
            "<class 'pandas.core.frame.DataFrame'>\n",
            "RangeIndex: 10166 entries, 0 to 10165\n",
            "Data columns (total 37 columns):\n",
            " #   Column                                 Non-Null Count  Dtype  \n",
            "---  ------                                 --------------  -----  \n",
            " 0   tweet_id                               10166 non-null  int64  \n",
            " 1   date_time                              10166 non-null  object \n",
            " 2   lang                                   10166 non-null  object \n",
            " 3   user_id                                10166 non-null  int64  \n",
            " 4   retweeted_id                           7767 non-null   float64\n",
            " 5   quoted_id                              1781 non-null   float64\n",
            " 6   in_reply_to_id                         314 non-null    float64\n",
            " 7   sentiment_conf                         10166 non-null  float64\n",
            " 8   sentiment_label                        10166 non-null  int64  \n",
            " 9   user_type                              10166 non-null  object \n",
            " 10  gender_label                           5413 non-null   object \n",
            " 11  tweet_text_named_entities              8865 non-null   object \n",
            " 12  geo_coordinates_lat_lon                2 non-null      object \n",
            " 13  geo_country_code                       2 non-null      object \n",
            " 14  geo_state                              2 non-null      object \n",
            " 15  geo_county                             0 non-null      float64\n",
            " 16  geo_city                               1 non-null      object \n",
            " 17  place_bounding_box                     107 non-null    object \n",
            " 18  place_country_code                     107 non-null    object \n",
            " 19  place_state                            42 non-null     object \n",
            " 20  place_county                           0 non-null      float64\n",
            " 21  place_city                             13 non-null     object \n",
            " 22  user_loc_toponyms                      10030 non-null  object \n",
            " 23  user_loc_country_code                  10030 non-null  object \n",
            " 24  user_loc_state                         2270 non-null   object \n",
            " 25  user_loc_county                        0 non-null      float64\n",
            " 26  user_loc_city                          618 non-null    object \n",
            " 27  user_profile_description_toponyms      704 non-null    object \n",
            " 28  user_profile_description_country_code  704 non-null    object \n",
            " 29  user_profile_description_state         704 non-null    object \n",
            " 30  user_profile_description_county        704 non-null    object \n",
            " 31  user_profile_description_city          704 non-null    object \n",
            " 32  tweet_text_toponyms                    5897 non-null   object \n",
            " 33  tweet_text_country_code                5897 non-null   object \n",
            " 34  tweet_text_state                       5897 non-null   object \n",
            " 35  tweet_text_county                      5897 non-null   object \n",
            " 36  tweet_text_city                        5897 non-null   object \n",
            "dtypes: float64(7), int64(3), object(27)\n",
            "memory usage: 2.9+ MB\n",
            "None\n"
          ]
        }
      ]
    },
    {
      "cell_type": "code",
      "source": [
        "# Display summary statistics for numerical columns\n",
        "print(\"\\nSummary Statistics:\")\n",
        "print(df.describe())"
      ],
      "metadata": {
        "colab": {
          "base_uri": "https://localhost:8080/"
        },
        "id": "rthpnkygJS8X",
        "outputId": "d37eea68-815d-40c0-e950-6ccc0ac520c2"
      },
      "execution_count": null,
      "outputs": [
        {
          "output_type": "stream",
          "name": "stdout",
          "text": [
            "\n",
            "Summary Statistics:\n",
            "           tweet_id       user_id  retweeted_id     quoted_id  in_reply_to_id  \\\n",
            "count  1.016600e+04  1.016600e+04  7.767000e+03  1.781000e+03    3.140000e+02   \n",
            "mean   1.224039e+18  2.768018e+17  1.223806e+18  1.223470e+18    1.223384e+18   \n",
            "std    3.343121e+14  4.431147e+17  2.578659e+15  2.147322e+15    7.464219e+15   \n",
            "min    1.223396e+18  6.990402e+06  1.001256e+18  1.182974e+18    1.094976e+18   \n",
            "25%    1.223843e+18  2.805937e+08  1.223551e+18  1.223343e+18    1.223696e+18   \n",
            "50%    1.223997e+18  1.346234e+09  1.223895e+18  1.223698e+18    1.223943e+18   \n",
            "75%    1.224290e+18  7.879235e+17  1.224182e+18  1.224013e+18    1.224180e+18   \n",
            "max    1.224675e+18  1.224593e+18  1.224669e+18  1.224666e+18    1.224665e+18   \n",
            "\n",
            "       sentiment_conf  sentiment_label  geo_county  place_county  \\\n",
            "count    10166.000000     10166.000000         0.0           0.0   \n",
            "mean         0.672858        -0.562365         NaN           NaN   \n",
            "std          0.154343         0.584263         NaN           NaN   \n",
            "min          0.338000        -1.000000         NaN           NaN   \n",
            "25%          0.549000        -1.000000         NaN           NaN   \n",
            "50%          0.663000        -1.000000         NaN           NaN   \n",
            "75%          0.801000         0.000000         NaN           NaN   \n",
            "max          0.964000         1.000000         NaN           NaN   \n",
            "\n",
            "       user_loc_county  \n",
            "count              0.0  \n",
            "mean               NaN  \n",
            "std                NaN  \n",
            "min                NaN  \n",
            "25%                NaN  \n",
            "50%                NaN  \n",
            "75%                NaN  \n",
            "max                NaN  \n"
          ]
        }
      ]
    },
    {
      "cell_type": "code",
      "source": [
        "# Display unique values and counts for categorical columns\n",
        "categorical_columns = ['lang', 'user_type', 'gender_label']\n",
        "for column in categorical_columns:\n",
        "    print(f\"\\nUnique values and counts for {column}:\")\n",
        "    print(df[column].value_counts())"
      ],
      "metadata": {
        "colab": {
          "base_uri": "https://localhost:8080/"
        },
        "id": "qNzAXEhiJX22",
        "outputId": "8eaacc48-a342-44a8-d730-c4aa74a99e7b"
      },
      "execution_count": null,
      "outputs": [
        {
          "output_type": "stream",
          "name": "stdout",
          "text": [
            "\n",
            "Unique values and counts for lang:\n",
            "en     9736\n",
            "und     130\n",
            "es       86\n",
            "in       66\n",
            "tl       42\n",
            "ca       19\n",
            "fr       13\n",
            "hi       13\n",
            "it        8\n",
            "ht        6\n",
            "ro        5\n",
            "zh        5\n",
            "de        5\n",
            "et        5\n",
            "lt        5\n",
            "ja        4\n",
            "da        4\n",
            "tr        3\n",
            "pl        3\n",
            "pt        2\n",
            "vi        1\n",
            "sv        1\n",
            "nl        1\n",
            "ar        1\n",
            "hu        1\n",
            "no        1\n",
            "Name: lang, dtype: int64\n",
            "\n",
            "Unique values and counts for user_type:\n",
            "PER            5413\n",
            "UNK            3171\n",
            "ORG            1212\n",
            "CARDINAL        182\n",
            "GPE              91\n",
            "NORP             49\n",
            "ORDINAL          10\n",
            "DATE              9\n",
            "TIME              8\n",
            "PERCENT           6\n",
            "MISC              4\n",
            "WORK_OF_ART       4\n",
            "LOC               4\n",
            "LANGUAGE          3\n",
            "Name: user_type, dtype: int64\n",
            "\n",
            "Unique values and counts for gender_label:\n",
            "M    3823\n",
            "F    1590\n",
            "Name: gender_label, dtype: int64\n"
          ]
        }
      ]
    },
    {
      "cell_type": "code",
      "source": [
        "# Display missing values in the DataFrame\n",
        "print(\"\\nMissing Values:\")\n",
        "print(df.isnull().sum())"
      ],
      "metadata": {
        "colab": {
          "base_uri": "https://localhost:8080/"
        },
        "id": "XdRbLFGoJk8y",
        "outputId": "11505acd-256f-4fb9-beb8-2b92b318b0bd"
      },
      "execution_count": null,
      "outputs": [
        {
          "output_type": "stream",
          "name": "stdout",
          "text": [
            "\n",
            "Missing Values:\n",
            "tweet_id                                     0\n",
            "date_time                                    0\n",
            "lang                                         0\n",
            "user_id                                      0\n",
            "retweeted_id                              2399\n",
            "quoted_id                                 8385\n",
            "in_reply_to_id                            9852\n",
            "sentiment_conf                               0\n",
            "sentiment_label                              0\n",
            "user_type                                    0\n",
            "gender_label                              4753\n",
            "tweet_text_named_entities                 1301\n",
            "geo_coordinates_lat_lon                  10164\n",
            "geo_country_code                         10164\n",
            "geo_state                                10164\n",
            "geo_county                               10166\n",
            "geo_city                                 10165\n",
            "place_bounding_box                       10059\n",
            "place_country_code                       10059\n",
            "place_state                              10124\n",
            "place_county                             10166\n",
            "place_city                               10153\n",
            "user_loc_toponyms                          136\n",
            "user_loc_country_code                      136\n",
            "user_loc_state                            7896\n",
            "user_loc_county                          10166\n",
            "user_loc_city                             9548\n",
            "user_profile_description_toponyms         9462\n",
            "user_profile_description_country_code     9462\n",
            "user_profile_description_state            9462\n",
            "user_profile_description_county           9462\n",
            "user_profile_description_city             9462\n",
            "tweet_text_toponyms                       4269\n",
            "tweet_text_country_code                   4269\n",
            "tweet_text_state                          4269\n",
            "tweet_text_county                         4269\n",
            "tweet_text_city                           4269\n",
            "dtype: int64\n"
          ]
        }
      ]
    },
    {
      "cell_type": "code",
      "source": [
        "print(\"\\nSentiment Label Distribution:\")\n",
        "print(df['sentiment_label'].value_counts())\n",
        "\n",
        "# Add more exploration and analysis based on your specific objectives"
      ],
      "metadata": {
        "colab": {
          "base_uri": "https://localhost:8080/"
        },
        "id": "7YAWEdn5IMyV",
        "outputId": "72989b3e-7dc5-4577-84f0-deba2e17fe8e"
      },
      "execution_count": null,
      "outputs": [
        {
          "output_type": "stream",
          "name": "stdout",
          "text": [
            "\n",
            "Sentiment Label Distribution:\n",
            "-1    6201\n",
            " 0    3481\n",
            " 1     484\n",
            "Name: sentiment_label, dtype: int64\n"
          ]
        }
      ]
    },
    {
      "cell_type": "code",
      "source": [
        "# Display unique values and counts for country codes\n",
        "print(\"\\nUnique Country Codes:\")\n",
        "print(df['geo_country_code'].value_counts())"
      ],
      "metadata": {
        "colab": {
          "base_uri": "https://localhost:8080/"
        },
        "id": "XyGEUhuyJy0z",
        "outputId": "caaf995c-5ae7-4d7e-8a20-c31d622087a8"
      },
      "execution_count": null,
      "outputs": [
        {
          "output_type": "stream",
          "name": "stdout",
          "text": [
            "\n",
            "Unique Country Codes:\n",
            "KE    2\n",
            "Name: geo_country_code, dtype: int64\n"
          ]
        }
      ]
    },
    {
      "cell_type": "code",
      "source": [
        "# Display unique values and counts for states\n",
        "print(\"\\nUnique States:\")\n",
        "print(df['geo_state'].value_counts())"
      ],
      "metadata": {
        "colab": {
          "base_uri": "https://localhost:8080/"
        },
        "id": "BPDidgH_Kcf6",
        "outputId": "fff3a552-f093-481b-bfcd-301c127ae3db"
      },
      "execution_count": null,
      "outputs": [
        {
          "output_type": "stream",
          "name": "stdout",
          "text": [
            "\n",
            "Unique States:\n",
            "Trans Nzoia    1\n",
            "Nairobi        1\n",
            "Name: geo_state, dtype: int64\n"
          ]
        }
      ]
    },
    {
      "cell_type": "code",
      "source": [
        "# Display unique values and counts for cities\n",
        "print(\"\\nUnique Cities:\")\n",
        "print(df['geo_city'].value_counts())"
      ],
      "metadata": {
        "colab": {
          "base_uri": "https://localhost:8080/"
        },
        "id": "yq4SREVnKiuQ",
        "outputId": "f55dd9a9-565e-4c6d-dc2f-8519212bb1c7"
      },
      "execution_count": null,
      "outputs": [
        {
          "output_type": "stream",
          "name": "stdout",
          "text": [
            "\n",
            "Unique Cities:\n",
            "Nairobi    1\n",
            "Name: geo_city, dtype: int64\n"
          ]
        }
      ]
    },
    {
      "cell_type": "markdown",
      "source": [
        "## Data Cleaning and Formatting"
      ],
      "metadata": {
        "id": "clhOM4XbMzP4"
      }
    },
    {
      "cell_type": "code",
      "source": [
        "# Convert string representations of dictionaries to actual dictionaries\n",
        "def convert_to_dict(value):\n",
        "    try:\n",
        "        return ast.literal_eval(value)\n",
        "    except (ValueError, SyntaxError):\n",
        "        return {}\n",
        "\n",
        "# Apply conversion to relevant columns\n",
        "dict_columns = ['tweet_text_named_entities', 'user_profile_description_toponyms']\n",
        "for col in dict_columns:\n",
        "    df[col] = df[col].apply(convert_to_dict)\n",
        "\n",
        "# Replace NaN values with appropriate defaults\n",
        "df.fillna({'tweet_text_named_entities': {}, 'user_profile_description_toponyms': {}}, inplace=True)\n",
        "\n",
        "# Convert 'date_time' column to datetime type\n",
        "df['date_time'] = pd.to_datetime(df['date_time'], errors='coerce')\n",
        "\n",
        "# Display the first few rows of the cleaned DataFrame\n",
        "print(\"Cleaned DataFrame:\")\n",
        "print(df.head())"
      ],
      "metadata": {
        "colab": {
          "base_uri": "https://localhost:8080/"
        },
        "id": "n7J-VWfhMg93",
        "outputId": "4d5f510a-483f-4183-cf40-9da442127946"
      },
      "execution_count": null,
      "outputs": [
        {
          "output_type": "stream",
          "name": "stdout",
          "text": [
            "Cleaned DataFrame:\n",
            "              tweet_id           date_time lang              user_id  \\\n",
            "0  1223395627243114496 2020-02-01 00:00:21   en             70394965   \n",
            "1  1223395667751702530 2020-02-01 00:00:31   en  1112662144527618048   \n",
            "2  1223396489910681603 2020-02-01 00:03:47   en            245493868   \n",
            "3  1223396854127382530 2020-02-01 00:05:14   en           1706777509   \n",
            "4  1223396915578011648 2020-02-01 00:05:28   en   874215910478884864   \n",
            "\n",
            "   retweeted_id  quoted_id  in_reply_to_id  sentiment_conf  sentiment_label  \\\n",
            "0           NaN        NaN             NaN           0.845               -1   \n",
            "1           NaN        NaN             NaN           0.728                0   \n",
            "2  1.223396e+18        NaN             NaN           0.795               -1   \n",
            "3  1.223190e+18        NaN             NaN           0.592               -1   \n",
            "4  1.223388e+18        NaN             NaN           0.804               -1   \n",
            "\n",
            "  user_type  ... user_profile_description_toponyms  \\\n",
            "0       ORG  ...                           [Kenya]   \n",
            "1       ORG  ...                                {}   \n",
            "2       UNK  ...                                {}   \n",
            "3       PER  ...                                {}   \n",
            "4       PER  ...                                {}   \n",
            "\n",
            "  user_profile_description_country_code user_profile_description_state  \\\n",
            "0                                ['KE']                        ['UNK']   \n",
            "1                                   NaN                            NaN   \n",
            "2                                   NaN                            NaN   \n",
            "3                                   NaN                            NaN   \n",
            "4                                   NaN                            NaN   \n",
            "\n",
            "  user_profile_description_county user_profile_description_city  \\\n",
            "0                         ['UNK']                       ['UNK']   \n",
            "1                             NaN                           NaN   \n",
            "2                             NaN                           NaN   \n",
            "3                             NaN                           NaN   \n",
            "4                             NaN                           NaN   \n",
            "\n",
            "   tweet_text_toponyms tweet_text_country_code tweet_text_state  \\\n",
            "0            ['China']                  ['CN']          ['UNK']   \n",
            "1            ['Kenya']                  ['KE']          ['UNK']   \n",
            "2                  NaN                     NaN              NaN   \n",
            "3                  NaN                     NaN              NaN   \n",
            "4            ['China']                  ['CN']          ['UNK']   \n",
            "\n",
            "  tweet_text_county tweet_text_city  \n",
            "0           ['UNK']         ['UNK']  \n",
            "1           ['UNK']         ['UNK']  \n",
            "2               NaN             NaN  \n",
            "3               NaN             NaN  \n",
            "4           ['UNK']         ['UNK']  \n",
            "\n",
            "[5 rows x 37 columns]\n"
          ]
        }
      ]
    },
    {
      "cell_type": "code",
      "source": [
        "df['tweet_text_named_entities'].fillna('{}', inplace=True)"
      ],
      "metadata": {
        "id": "SOJDiVOmLR08"
      },
      "execution_count": null,
      "outputs": []
    },
    {
      "cell_type": "code",
      "source": [
        "# Convert the string representation of dictionary arrays to actual dictionaries\n",
        "def safe_eval(value):\n",
        "    try:\n",
        "        return ast.literal_eval(value)\n",
        "    except (ValueError, SyntaxError):\n",
        "        return None\n",
        "\n",
        "# Apply the safe_eval function to the 'tweet_text_named_entities' column\n",
        "df['tweet_text_named_entities'] = df['tweet_text_named_entities'].apply(safe_eval)"
      ],
      "metadata": {
        "id": "iuFMHFG5KmoK"
      },
      "execution_count": null,
      "outputs": []
    },
    {
      "cell_type": "code",
      "source": [
        "# Define a function to safely apply ast.literal_eval\n",
        "def safe_eval(value):\n",
        "    try:\n",
        "        return ast.literal_eval(value)\n",
        "    except (ValueError, SyntaxError):\n",
        "        return None\n",
        "\n",
        "# Apply the safe_eval function to the 'user_profile_description_toponyms' column\n",
        "df['user_profile_description_toponyms'] = df['user_profile_description_toponyms'].apply(safe_eval)\n",
        "\n",
        "# Replace potential None values with an empty dictionary\n",
        "df['user_profile_description_toponyms'].fillna({}, inplace=True)\n",
        "\n",
        "# Display the first few rows of the DataFrame\n",
        "print(\"Cleaned DataFrame:\")\n",
        "print(df.head())"
      ],
      "metadata": {
        "colab": {
          "base_uri": "https://localhost:8080/"
        },
        "id": "URRHpqNGNVOd",
        "outputId": "d3987de0-afd5-4997-fa7a-28c868f6c893"
      },
      "execution_count": null,
      "outputs": [
        {
          "output_type": "stream",
          "name": "stdout",
          "text": [
            "Cleaned DataFrame:\n",
            "              tweet_id           date_time lang              user_id  \\\n",
            "0  1223395627243114496 2020-02-01 00:00:21   en             70394965   \n",
            "1  1223395667751702530 2020-02-01 00:00:31   en  1112662144527618048   \n",
            "2  1223396489910681603 2020-02-01 00:03:47   en            245493868   \n",
            "3  1223396854127382530 2020-02-01 00:05:14   en           1706777509   \n",
            "4  1223396915578011648 2020-02-01 00:05:28   en   874215910478884864   \n",
            "\n",
            "   retweeted_id  quoted_id  in_reply_to_id  sentiment_conf  sentiment_label  \\\n",
            "0           NaN        NaN             NaN           0.845               -1   \n",
            "1           NaN        NaN             NaN           0.728                0   \n",
            "2  1.223396e+18        NaN             NaN           0.795               -1   \n",
            "3  1.223190e+18        NaN             NaN           0.592               -1   \n",
            "4  1.223388e+18        NaN             NaN           0.804               -1   \n",
            "\n",
            "  user_type  ... user_profile_description_toponyms  \\\n",
            "0       ORG  ...                              None   \n",
            "1       ORG  ...                              None   \n",
            "2       UNK  ...                              None   \n",
            "3       PER  ...                              None   \n",
            "4       PER  ...                              None   \n",
            "\n",
            "  user_profile_description_country_code user_profile_description_state  \\\n",
            "0                                ['KE']                        ['UNK']   \n",
            "1                                   NaN                            NaN   \n",
            "2                                   NaN                            NaN   \n",
            "3                                   NaN                            NaN   \n",
            "4                                   NaN                            NaN   \n",
            "\n",
            "  user_profile_description_county user_profile_description_city  \\\n",
            "0                         ['UNK']                       ['UNK']   \n",
            "1                             NaN                           NaN   \n",
            "2                             NaN                           NaN   \n",
            "3                             NaN                           NaN   \n",
            "4                             NaN                           NaN   \n",
            "\n",
            "   tweet_text_toponyms tweet_text_country_code tweet_text_state  \\\n",
            "0            ['China']                  ['CN']          ['UNK']   \n",
            "1            ['Kenya']                  ['KE']          ['UNK']   \n",
            "2                  NaN                     NaN              NaN   \n",
            "3                  NaN                     NaN              NaN   \n",
            "4            ['China']                  ['CN']          ['UNK']   \n",
            "\n",
            "  tweet_text_county tweet_text_city  \n",
            "0           ['UNK']         ['UNK']  \n",
            "1           ['UNK']         ['UNK']  \n",
            "2               NaN             NaN  \n",
            "3               NaN             NaN  \n",
            "4           ['UNK']         ['UNK']  \n",
            "\n",
            "[5 rows x 37 columns]\n"
          ]
        }
      ]
    },
    {
      "cell_type": "code",
      "source": [
        "# Display named entities in tweet text\n",
        "print(\"\\nNamed Entities in Tweet Text:\")\n",
        "print(df['tweet_text_named_entities'].explode().value_counts())"
      ],
      "metadata": {
        "colab": {
          "base_uri": "https://localhost:8080/"
        },
        "id": "F8C97ayoNvdN",
        "outputId": "29e843b8-59f1-413b-b657-15e5aa6440b9"
      },
      "execution_count": null,
      "outputs": [
        {
          "output_type": "stream",
          "name": "stdout",
          "text": [
            "\n",
            "Named Entities in Tweet Text:\n",
            "Series([], Name: tweet_text_named_entities, dtype: int64)\n"
          ]
        }
      ]
    },
    {
      "cell_type": "code",
      "source": [
        "# Display named entities in user profile description\n",
        "print(\"\\nNamed Entities in User Profile Description:\")\n",
        "print(df['user_profile_description_toponyms'].explode().value_counts())"
      ],
      "metadata": {
        "colab": {
          "base_uri": "https://localhost:8080/"
        },
        "id": "dVBAlQyzN7Mz",
        "outputId": "3b075194-6a34-41a8-83b8-405cb9bb813d"
      },
      "execution_count": null,
      "outputs": [
        {
          "output_type": "stream",
          "name": "stdout",
          "text": [
            "\n",
            "Named Entities in User Profile Description:\n",
            "Series([], Name: user_profile_description_toponyms, dtype: int64)\n"
          ]
        }
      ]
    },
    {
      "cell_type": "code",
      "source": [
        "# Display sentiment label distribution\n",
        "plt.figure(figsize=(8, 6))\n",
        "sns.countplot(x='sentiment_label', data=df)\n",
        "plt.title('Sentiment Label Distribution')\n",
        "plt.xlabel('Sentiment Label')\n",
        "plt.ylabel('Count')\n",
        "plt.show()"
      ],
      "metadata": {
        "colab": {
          "base_uri": "https://localhost:8080/",
          "height": 564
        },
        "id": "nP0HyQ9AOIpT",
        "outputId": "93ba6f83-db48-4f18-8f95-6dab4dfdcc5b"
      },
      "execution_count": null,
      "outputs": [
        {
          "output_type": "display_data",
          "data": {
            "text/plain": [
              "<Figure size 800x600 with 1 Axes>"
            ],
            "image/png": "[encoded data removed]"
          },
          "metadata": {}
        }
      ]
    },
    {
      "cell_type": "code",
      "source": [],
      "metadata": {
        "id": "xqkfkFidOjNY"
      },
      "execution_count": null,
      "outputs": []
    }
  ]
}